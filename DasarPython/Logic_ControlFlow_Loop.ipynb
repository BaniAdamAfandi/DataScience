{
  "nbformat": 4,
  "nbformat_minor": 0,
  "metadata": {
    "kernelspec": {
      "display_name": "Python 3",
      "language": "python",
      "name": "python3"
    },
    "language_info": {
      "codemirror_mode": {
        "name": "ipython",
        "version": 3
      },
      "file_extension": ".py",
      "mimetype": "text/x-python",
      "name": "python",
      "nbconvert_exporter": "python",
      "pygments_lexer": "ipython3",
      "version": "3.7.7"
    },
    "colab": {
      "name": "Tugas_Hari_3_bani.adam.afandi.@gmail.com.ipynb",
      "provenance": []
    }
  },
  "cells": [
    {
      "cell_type": "markdown",
      "metadata": {
        "id": "a9HYUdCUsrKl"
      },
      "source": [
        "<h2>Soal 1: Comparison Operator</h2>\n",
        "\n",
        "- Berikan contoh comparison dari tipe data string\n",
        "- Berikan contoh comparison dari tipe data boolean\n",
        "- Berikan contoh comparison dari tipe data integer"
      ]
    },
    {
      "cell_type": "code",
      "metadata": {
        "id": "lXMCHZ71srKp",
        "colab": {
          "base_uri": "https://localhost:8080/"
        },
        "outputId": "af78fb39-c95e-45d7-8021-0cb2640214d9"
      },
      "source": [
        "#1 tipe data string\r\n",
        "kota = ['jakarta','surabaya']\r\n",
        "cari = 'surabaya'\r\n",
        "for i in kota :\r\n",
        "  if i < cari :\r\n",
        "    print (i,\" sebelum \",cari)\r\n",
        "  elif i > cari :\r\n",
        "    print (i,\" sesudah \",cari)\r\n",
        "  else :\r\n",
        "    print (i,\" sama dengan \",cari)\r\n",
        "#2 tipe data boolean\r\n",
        "a = 3\r\n",
        "b = 'bola'\r\n",
        "c = 3\r\n",
        "print(a==b)\r\n",
        "print(a==c)\r\n",
        "#3 tipe data int\r\n",
        "angka1 = 8\r\n",
        "angka2 = 10\r\n",
        "if angka1 <= angka2 :\r\n",
        "  print(\"angka1 kurang dari angka2\")\r\n",
        "else :\r\n",
        "    print(\"angka2 kurang dari angka1\") "
      ],
      "execution_count": 97,
      "outputs": [
        {
          "output_type": "stream",
          "text": [
            "jakarta  sebelum  surabaya\n",
            "surabaya  sama dengan  surabaya\n",
            "False\n",
            "True\n",
            "angka1 kurang dari angka2\n"
          ],
          "name": "stdout"
        }
      ]
    },
    {
      "cell_type": "markdown",
      "metadata": {
        "id": "IbNoZvVssrK5"
      },
      "source": [
        "<h2>Soal 2: Boolean Comparison</h2>\n",
        "\n",
        "- Berikan contoh gabungan multiple comparison menggunkan Boolean Comparisin 'and'\n",
        "- Berikan contoh gabungan multiple comparison menggunkan Boolean Comparisin 'or'\n",
        "- Berikan contoh gabungan multiple comparison menggunkan Boolean Comparisin 'not'"
      ]
    },
    {
      "cell_type": "code",
      "metadata": {
        "id": "7eU1vPLCsrK7",
        "colab": {
          "base_uri": "https://localhost:8080/"
        },
        "outputId": "74465415-c3cd-4c7b-e7bb-96ac85aa7506"
      },
      "source": [
        "x = 11\r\n",
        "if x == 10 and x <=10 :\r\n",
        "  print(\"angka sama dengan 10 dan kurang dari sama dengan 10\")\r\n",
        "elif x == 10 or x <=10 :\r\n",
        "  print(\"angka sama dengan 10 atau kurang dari sama dengan 10\")\r\n",
        "elif not(x == 10 and x <=10 ):\r\n",
        "  print(\"nilai tidak cocok\")"
      ],
      "execution_count": null,
      "outputs": [
        {
          "output_type": "stream",
          "text": [
            "nilai tidak cocok\n"
          ],
          "name": "stdout"
        }
      ]
    },
    {
      "cell_type": "markdown",
      "metadata": {
        "id": "Yp_g_sPMsrLH"
      },
      "source": [
        "<h2>Soal 3: If-Else Statement</h2>\n",
        "\n",
        "Lengkapi kode untuk menghasilkan suatu output yang di harapkan\n",
        "\n",
        "- Bualah sebuah if-else statement yang dimana akan mem-print 'Besar' jika ruangan adalah 'Kamar' dan ukuran lebih dari 12, kemudian mem-print 'Sedang' jika ruangan adalah 'Kamar' dan ukuran lebih dari 6 dan memprint 'Kecil' jika ruangan adalah 'Kamar' dan ukuran ruangan lebih kecil dan sama dengan 6."
      ]
    },
    {
      "cell_type": "code",
      "metadata": {
        "id": "euRiRNupsrLK",
        "colab": {
          "base_uri": "https://localhost:8080/"
        },
        "outputId": "aa4ed96d-243a-40c9-c4b2-b063423e10a0"
      },
      "source": [
        "ruangan = 'Kamar'\n",
        "size = 20\n",
        "\n",
        "if  ruangan == ruangan and size > 12 :\n",
        "    print('Besar')\n",
        "elif ruangan == ruangan and size > 6 :\n",
        "    print('Sedang')\n",
        "elif ruangan == ruangan and size <= 6:\n",
        "    print('Kecil')"
      ],
      "execution_count": null,
      "outputs": [
        {
          "output_type": "stream",
          "text": [
            "Besar\n"
          ],
          "name": "stdout"
        }
      ]
    },
    {
      "cell_type": "markdown",
      "metadata": {
        "id": "IcoJXJT1srLW"
      },
      "source": [
        "<h2>Soal 4: Comparison Operator dengan fungsi</h2>\n",
        "\n",
        "Buatlah sebuah fungsi yang menerima satu argument bertipe data numeric dan menghasilkan sebuah return sebagai berikut :\n",
        "- menghasilkan return 'Aneh' jika nilai dari argument tersebut adalah bilangan ganjil\n",
        "- menghasilkan return 'Tidak Aneh' jika nilai dari argument tersebut adalah bilangan genap dan diantara nilai 2 sampai 5 (2 dan 5 termasuk)\n",
        "- menghasilkan return 'Aneh' jika nilai dari argument tersebut adalah bilangan genap dan diantara nilai 6 sampai 20 (6 dan 20 termasuk)\n",
        "- menghasilkan return 'Tidak Aneh' jika nilai dari argument tersebut adalah bilangan genap dan lebih besari dari 20"
      ]
    },
    {
      "cell_type": "code",
      "metadata": {
        "id": "g8F_qfEKsrLZ",
        "colab": {
          "base_uri": "https://localhost:8080/",
          "height": 35
        },
        "outputId": "31b71d88-c9ce-4883-c155-fc2fd85fbd19"
      },
      "source": [
        "# Buat fungsi\r\n",
        "angka = 5\r\n",
        "def fungsi_angka (x):\r\n",
        "  if x%2 == 0 and x >=2 and x <= 5:\r\n",
        "    x=\"Tidak Aneh\"\r\n",
        "    return x\r\n",
        "  elif x%2 == 0 and x >=6 and x <= 20:\r\n",
        "    x=\"Aneh\"\r\n",
        "    return x\r\n",
        "  elif x%2 == 0 and x > 20 :\r\n",
        "    x=\"Tidak Aneh\"\r\n",
        "    return x\r\n",
        "  else :\r\n",
        "    x=\"Aneh\"\r\n",
        "    return x\r\n",
        "fungsi_angka(angka)\r\n",
        "\r\n"
      ],
      "execution_count": 84,
      "outputs": [
        {
          "output_type": "execute_result",
          "data": {
            "application/vnd.google.colaboratory.intrinsic+json": {
              "type": "string"
            },
            "text/plain": [
              "'Aneh'"
            ]
          },
          "metadata": {
            "tags": []
          },
          "execution_count": 84
        }
      ]
    },
    {
      "cell_type": "markdown",
      "metadata": {
        "id": "gf0D64xOsrLl"
      },
      "source": [
        "<h2>Soal 5: While Loop dan For Loop</h2>\n",
        "\n",
        "- Apa perbedaan while loop dan for loop?\n",
        "- Berikan contoh sederhana cara menggunakan while loop dan for loop"
      ]
    },
    {
      "cell_type": "code",
      "metadata": {
        "id": "l7KIgpjHsrLo",
        "colab": {
          "base_uri": "https://localhost:8080/"
        },
        "outputId": "f8ebdb71-6cb5-4046-e2de-e109555c3072"
      },
      "source": [
        "# Tulis Kode\r\n",
        "print(\"perulangan for digunakan untuk mengulangi kode yang sudah diketahui banyak perulangan\")\r\n",
        "print(\"perulangan while yaitu perulangan yang memilki syarat dan tidak diketahui perulangannya\")\r\n",
        "#while \r\n",
        "a = 5\r\n",
        "def fungsi (angka):\r\n",
        "  while (angka!=15):\r\n",
        "    print(angka)\r\n",
        "    angka+=1\r\n",
        "fungsi(a)\r\n",
        "merek = ['honda','yamaha','suzuki','kawasaki']\r\n",
        "for m in sorted(merek):\r\n",
        "  print(m)"
      ],
      "execution_count": null,
      "outputs": [
        {
          "output_type": "stream",
          "text": [
            "perulangan for digunakan untuk mengulangi kode yang sudah diketahui banyak perulangan\n",
            "perulangan while yaitu perulangan yang memilki syarat dan tidak diketahui perulangannya\n",
            "5\n",
            "6\n",
            "7\n",
            "8\n",
            "9\n",
            "10\n",
            "11\n",
            "12\n",
            "13\n",
            "14\n",
            "honda\n",
            "kawasaki\n",
            "suzuki\n",
            "yamaha\n"
          ],
          "name": "stdout"
        }
      ]
    },
    {
      "cell_type": "markdown",
      "metadata": {
        "id": "fZQpBGCgsrLz"
      },
      "source": [
        "<h2>Soal 6: While Loop</h2>\n",
        "    \n",
        "Buatlah sebuah code while loop sebagai berikut :\n",
        "- Buatlah suatu fungsi yang merima satu input nilai numeric\n",
        "- Dalam fungsi, Buat sebuah while-loop dengan melakukan comparasi terhadap inputan tersebut, dimana looping/iterasi terus berjalan apabila nilai inputan tidak sama dengan 0\n",
        "- Dalam setiap iterasi update nilai variable inputan itu, jika input lebih dari 0, maka kurangi variabel tersebut sebesar 1, selain itu tambahkan 1\n",
        "- print nilai variable input dalam setiap awal iterasi"
      ]
    },
    {
      "cell_type": "code",
      "metadata": {
        "id": "yOiqjrU2srL1",
        "colab": {
          "base_uri": "https://localhost:8080/"
        },
        "outputId": "dc2e774a-7825-4280-a11e-5adc557a911d"
      },
      "source": [
        "a = 10\n",
        "\n",
        "def fungsi_while(nilai):\n",
        "  while (nilai!=0):\n",
        "    print(nilai)\n",
        "    nilai-=1\n",
        "\n",
        "fungsi_while(a)"
      ],
      "execution_count": null,
      "outputs": [
        {
          "output_type": "stream",
          "text": [
            "10\n",
            "9\n",
            "8\n",
            "7\n",
            "6\n",
            "5\n",
            "4\n",
            "3\n",
            "2\n",
            "1\n"
          ],
          "name": "stdout"
        }
      ]
    },
    {
      "cell_type": "markdown",
      "metadata": {
        "id": "lKzngRrlsrMD"
      },
      "source": [
        "Expected Output:\n",
        "\n",
        "10\n",
        "\n",
        "9\n",
        "\n",
        "8\n",
        "\n",
        "7\n",
        "\n",
        "6\n",
        "\n",
        "5\n",
        "\n",
        "4\n",
        "\n",
        "3\n",
        "\n",
        "2\n",
        "\n",
        "1"
      ]
    },
    {
      "cell_type": "markdown",
      "metadata": {
        "id": "IWg3Z_zZsrMG"
      },
      "source": [
        "<h2>Soal 7: For Loop</h2>\n",
        "    \n",
        "Lengkapi kode untuk menghasilkan suatu output yang di harapkan:\n",
        "\n",
        "- Buatlah sebuah loop dengan mengiterasi sebuah objek list kemudian di kalikan dengan index dari list tersebut dan print hasilnya"
      ]
    },
    {
      "cell_type": "code",
      "metadata": {
        "id": "_Jl5i7WKsrMI",
        "colab": {
          "base_uri": "https://localhost:8080/"
        },
        "outputId": "5ab09b50-3098-4d5b-e83d-4d44ba3b6cd9"
      },
      "source": [
        "obj_list= [1, 16, 11, 10, 5]\n",
        "\n",
        "# lengkapi code di bawah\n",
        "for i,obj in enumerate (obj_list):\n",
        "    print(i*obj)\n"
      ],
      "execution_count": null,
      "outputs": [
        {
          "output_type": "stream",
          "text": [
            "0\n",
            "16\n",
            "22\n",
            "30\n",
            "20\n"
          ],
          "name": "stdout"
        }
      ]
    },
    {
      "cell_type": "markdown",
      "metadata": {
        "id": "OGawROjnsrMU"
      },
      "source": [
        "Expected Output:\n",
        "\n",
        "0\n",
        "\n",
        "16\n",
        "\n",
        "22\n",
        "\n",
        "30\n",
        "\n",
        "20\n"
      ]
    }
  ]
}